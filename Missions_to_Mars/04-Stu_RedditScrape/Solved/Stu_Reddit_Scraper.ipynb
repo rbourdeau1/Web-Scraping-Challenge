{
 "cells": [
  {
   "cell_type": "code",
   "execution_count": 1,
   "metadata": {},
   "outputs": [],
   "source": [
    "# Dependencies\n",
    "from bs4 import BeautifulSoup\n",
    "import requests\n",
    "import os"
   ]
  },
  {
   "cell_type": "code",
   "execution_count": 2,
   "metadata": {},
   "outputs": [],
   "source": [
    "filepath = os.path.join(\"Programmer-Humor.html\")\n",
    "with open(filepath, encoding='utf-8') as file:\n",
    "    html = file.read()"
   ]
  },
  {
   "cell_type": "code",
   "execution_count": 3,
   "metadata": {},
   "outputs": [],
   "source": [
    "# Create BeautifulSoup object; parse with 'html.parser'\n",
    "soup = BeautifulSoup(html, 'html.parser')"
   ]
  },
  {
   "cell_type": "code",
   "execution_count": 5,
   "metadata": {},
   "outputs": [
    {
     "name": "stdout",
     "output_type": "stream",
     "text": [
      "The number of subscribers: 422,381\n"
     ]
    }
   ],
   "source": [
    "# Find the number of subscribers\n",
    "number_subscribers = soup.find(\"span\", class_='subscribers').\\\n",
    "    find('span', class_='number').text\n",
    "print(f\"The number of subscribers: {number_subscribers}\")"
   ]
  },
  {
   "cell_type": "code",
   "execution_count": 6,
   "metadata": {},
   "outputs": [],
   "source": [
    "# Examine the results, then determine element that contains sought info\n",
    "# results are returned as an iterable list\n",
    "results = soup.find_all('div', class_='top-matter')"
   ]
  },
  {
   "cell_type": "code",
   "execution_count": 7,
   "metadata": {},
   "outputs": [
    {
     "name": "stdout",
     "output_type": "stream",
     "text": [
      "'NoneType' object has no attribute 'text'\n",
      "\n",
      "-----------------\n",
      "\n",
      "[Meta] Clarification on rules\n",
      "Comments: 79\n",
      "https://www.reddit.com/r/ProgrammerHumor/comments/6y2b47/meta_clarification_on_rules/\n",
      "\n",
      "-----------------\n",
      "\n",
      "Doing conditionals\n",
      "Comments: 258\n",
      "https://www.reddit.com/r/ProgrammerHumor/comments/7pw5qk/doing_conditionals/\n",
      "\n",
      "-----------------\n",
      "\n",
      "Perfect date\n",
      "Comments: 58\n",
      "https://www.reddit.com/r/ProgrammerHumor/comments/7pyyl2/perfect_date/\n",
      "\n",
      "-----------------\n",
      "\n",
      "The truth about java.\n",
      "Comments: 61\n",
      "https://www.reddit.com/r/ProgrammerHumor/comments/7pxod4/the_truth_about_java/\n",
      "\n",
      "-----------------\n",
      "\n",
      "It all makes sense now.\n",
      "Comments: 341\n",
      "https://www.reddit.com/r/ProgrammerHumor/comments/7pp66f/it_all_makes_sense_now/\n",
      "\n",
      "-----------------\n",
      "\n",
      "This is where US's bandwidth going.\n",
      "Comments: 20\n",
      "https://www.reddit.com/r/ProgrammerHumor/comments/7pv1ta/this_is_where_uss_bandwidth_going/\n"
     ]
    }
   ],
   "source": [
    "# Loop through returned results\n",
    "for result in results:\n",
    "    \n",
    "    # Retrieve the thread title\n",
    "    title = result.find('p', class_='title')\n",
    "    \n",
    "    \n",
    "    # Access the thread's text content\n",
    "    title_text = title.a.text\n",
    "#     print(title_text)\n",
    "\n",
    "    try:\n",
    "        # Access the thread with CSS selectors\n",
    "        thread = result.find('li', class_='first')    \n",
    "\n",
    "        # The number of comments made in the thread\n",
    "        comments = thread.text.lstrip()\n",
    "\n",
    "        # Parse string, e.g. '47 comments' for possible numeric manipulation\n",
    "        comments_num = int(comments.split()[0])\n",
    "\n",
    "        # Access the href attribute with bracket notation\n",
    "        link = thread.a['href']\n",
    "\n",
    "        # Run if the thread has 20 or more comments\n",
    "        if (comments_num >=20 ):\n",
    "            print('\\n-----------------\\n')\n",
    "            print(title_text)\n",
    "            print('Comments:', comments_num)\n",
    "            print(link)\n",
    "    except AttributeError as e:\n",
    "        print(e)"
   ]
  }
 ],
 "metadata": {
  "kernelspec": {
   "display_name": "Python 3",
   "language": "python",
   "name": "python3"
  },
  "language_info": {
   "codemirror_mode": {
    "name": "ipython",
    "version": 3
   },
   "file_extension": ".py",
   "mimetype": "text/x-python",
   "name": "python",
   "nbconvert_exporter": "python",
   "pygments_lexer": "ipython3",
   "version": "3.7.6"
  },
  "varInspector": {
   "cols": {
    "lenName": 16,
    "lenType": 16,
    "lenVar": 40
   },
   "kernels_config": {
    "python": {
     "delete_cmd_postfix": "",
     "delete_cmd_prefix": "del ",
     "library": "var_list.py",
     "varRefreshCmd": "print(var_dic_list())"
    },
    "r": {
     "delete_cmd_postfix": ") ",
     "delete_cmd_prefix": "rm(",
     "library": "var_list.r",
     "varRefreshCmd": "cat(var_dic_list()) "
    }
   },
   "types_to_exclude": [
    "module",
    "function",
    "builtin_function_or_method",
    "instance",
    "_Feature"
   ],
   "window_display": false
  }
 },
 "nbformat": 4,
 "nbformat_minor": 4
}
